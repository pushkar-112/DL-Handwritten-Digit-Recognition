{
 "cells": [
  {
   "cell_type": "code",
   "execution_count": 1,
   "id": "2b325732-be88-42f1-b3cb-bd7b6994f3ee",
   "metadata": {},
   "outputs": [],
   "source": [
    "import tensorflow as tf\n",
    "from tensorflow import keras"
   ]
  },
  {
   "cell_type": "code",
   "execution_count": 2,
   "id": "11d93121-fb09-4a25-a5fc-9c17eaa2208a",
   "metadata": {},
   "outputs": [],
   "source": [
    "import pandas as pd\n",
    "import numpy as np\n",
    "import matplotlib.pyplot as plt"
   ]
  },
  {
   "cell_type": "code",
   "execution_count": 3,
   "id": "2a25bff1-b477-40bb-9804-10bcbd7abafc",
   "metadata": {},
   "outputs": [],
   "source": [
    "#Load Dataset - in train test split form\n",
    "(X_train, y_train), (X_test, y_test) =  keras.datasets.mnist.load_data()"
   ]
  },
  {
   "cell_type": "markdown",
   "id": "e2572c4a-774a-4813-912f-de85f8885d9c",
   "metadata": {},
   "source": [
    "### Understand Dataset"
   ]
  },
  {
   "cell_type": "code",
   "execution_count": 4,
   "id": "a2551775-7bf9-45c3-bdd8-6d577f33133d",
   "metadata": {},
   "outputs": [
    {
     "data": {
      "text/plain": [
       "60000"
      ]
     },
     "execution_count": 4,
     "metadata": {},
     "output_type": "execute_result"
    }
   ],
   "source": [
    "#Number of train examples\n",
    "len(X_train)"
   ]
  },
  {
   "cell_type": "code",
   "execution_count": 5,
   "id": "454532b3-a8eb-4be9-9647-f322f27b858d",
   "metadata": {},
   "outputs": [
    {
     "data": {
      "text/plain": [
       "10000"
      ]
     },
     "execution_count": 5,
     "metadata": {},
     "output_type": "execute_result"
    }
   ],
   "source": [
    "#Number of test examples\n",
    "len(X_test)"
   ]
  },
  {
   "cell_type": "code",
   "execution_count": 6,
   "id": "baa85c00-9009-4407-ad21-7249ea548e3d",
   "metadata": {},
   "outputs": [
    {
     "data": {
      "text/plain": [
       "(60000, 28, 28)"
      ]
     },
     "execution_count": 6,
     "metadata": {},
     "output_type": "execute_result"
    }
   ],
   "source": [
    "# Shape of Test data\n",
    "X_train.shape\n",
    "#(60000, 28, 28) = 60000 examples of [28.28]"
   ]
  },
  {
   "cell_type": "code",
   "execution_count": 7,
   "id": "6e28ccc4-7852-42d7-8694-01cb94cd8643",
   "metadata": {},
   "outputs": [
    {
     "data": {
      "text/plain": [
       "(28, 28)"
      ]
     },
     "execution_count": 7,
     "metadata": {},
     "output_type": "execute_result"
    }
   ],
   "source": [
    "# Shape of 1 Test data element\n",
    "X_train[0].shape"
   ]
  },
  {
   "cell_type": "code",
   "execution_count": 8,
   "id": "070d3ee5-8ac9-4b2f-8477-8b4623dd521a",
   "metadata": {},
   "outputs": [
    {
     "data": {
      "text/plain": [
       "array([[  0,   0,   0,   0,   0,   0,   0,   0,   0,   0,   0,   0,   0,\n",
       "          0,   0,   0,   0,   0,   0,   0,   0,   0,   0,   0,   0,   0,\n",
       "          0,   0],\n",
       "       [  0,   0,   0,   0,   0,   0,   0,   0,   0,   0,   0,   0,   0,\n",
       "          0,   0,   0,   0,   0,   0,   0,   0,   0,   0,   0,   0,   0,\n",
       "          0,   0],\n",
       "       [  0,   0,   0,   0,   0,   0,   0,   0,   0,   0,   0,   0,   0,\n",
       "          0,   0,   0,   0,   0,   0,   0,   0,   0,   0,   0,   0,   0,\n",
       "          0,   0],\n",
       "       [  0,   0,   0,   0,   0,   0,   0,   0,   0,   0,   0,   0,   0,\n",
       "          0,   0,   0,   0,   0,   0,   0,   0,   0,   0,   0,   0,   0,\n",
       "          0,   0],\n",
       "       [  0,   0,   0,   0,   0,   0,   0,   0,   0,   0,   0,   0,   0,\n",
       "          0,   0,   0,   0,   0,   0,   0,   0,   0,   0,   0,   0,   0,\n",
       "          0,   0],\n",
       "       [  0,   0,   0,   0,   0,   0,   0,   0,   0,   0,   0,   0,   3,\n",
       "         18,  18,  18, 126, 136, 175,  26, 166, 255, 247, 127,   0,   0,\n",
       "          0,   0],\n",
       "       [  0,   0,   0,   0,   0,   0,   0,   0,  30,  36,  94, 154, 170,\n",
       "        253, 253, 253, 253, 253, 225, 172, 253, 242, 195,  64,   0,   0,\n",
       "          0,   0],\n",
       "       [  0,   0,   0,   0,   0,   0,   0,  49, 238, 253, 253, 253, 253,\n",
       "        253, 253, 253, 253, 251,  93,  82,  82,  56,  39,   0,   0,   0,\n",
       "          0,   0],\n",
       "       [  0,   0,   0,   0,   0,   0,   0,  18, 219, 253, 253, 253, 253,\n",
       "        253, 198, 182, 247, 241,   0,   0,   0,   0,   0,   0,   0,   0,\n",
       "          0,   0],\n",
       "       [  0,   0,   0,   0,   0,   0,   0,   0,  80, 156, 107, 253, 253,\n",
       "        205,  11,   0,  43, 154,   0,   0,   0,   0,   0,   0,   0,   0,\n",
       "          0,   0],\n",
       "       [  0,   0,   0,   0,   0,   0,   0,   0,   0,  14,   1, 154, 253,\n",
       "         90,   0,   0,   0,   0,   0,   0,   0,   0,   0,   0,   0,   0,\n",
       "          0,   0],\n",
       "       [  0,   0,   0,   0,   0,   0,   0,   0,   0,   0,   0, 139, 253,\n",
       "        190,   2,   0,   0,   0,   0,   0,   0,   0,   0,   0,   0,   0,\n",
       "          0,   0],\n",
       "       [  0,   0,   0,   0,   0,   0,   0,   0,   0,   0,   0,  11, 190,\n",
       "        253,  70,   0,   0,   0,   0,   0,   0,   0,   0,   0,   0,   0,\n",
       "          0,   0],\n",
       "       [  0,   0,   0,   0,   0,   0,   0,   0,   0,   0,   0,   0,  35,\n",
       "        241, 225, 160, 108,   1,   0,   0,   0,   0,   0,   0,   0,   0,\n",
       "          0,   0],\n",
       "       [  0,   0,   0,   0,   0,   0,   0,   0,   0,   0,   0,   0,   0,\n",
       "         81, 240, 253, 253, 119,  25,   0,   0,   0,   0,   0,   0,   0,\n",
       "          0,   0],\n",
       "       [  0,   0,   0,   0,   0,   0,   0,   0,   0,   0,   0,   0,   0,\n",
       "          0,  45, 186, 253, 253, 150,  27,   0,   0,   0,   0,   0,   0,\n",
       "          0,   0],\n",
       "       [  0,   0,   0,   0,   0,   0,   0,   0,   0,   0,   0,   0,   0,\n",
       "          0,   0,  16,  93, 252, 253, 187,   0,   0,   0,   0,   0,   0,\n",
       "          0,   0],\n",
       "       [  0,   0,   0,   0,   0,   0,   0,   0,   0,   0,   0,   0,   0,\n",
       "          0,   0,   0,   0, 249, 253, 249,  64,   0,   0,   0,   0,   0,\n",
       "          0,   0],\n",
       "       [  0,   0,   0,   0,   0,   0,   0,   0,   0,   0,   0,   0,   0,\n",
       "          0,  46, 130, 183, 253, 253, 207,   2,   0,   0,   0,   0,   0,\n",
       "          0,   0],\n",
       "       [  0,   0,   0,   0,   0,   0,   0,   0,   0,   0,   0,   0,  39,\n",
       "        148, 229, 253, 253, 253, 250, 182,   0,   0,   0,   0,   0,   0,\n",
       "          0,   0],\n",
       "       [  0,   0,   0,   0,   0,   0,   0,   0,   0,   0,  24, 114, 221,\n",
       "        253, 253, 253, 253, 201,  78,   0,   0,   0,   0,   0,   0,   0,\n",
       "          0,   0],\n",
       "       [  0,   0,   0,   0,   0,   0,   0,   0,  23,  66, 213, 253, 253,\n",
       "        253, 253, 198,  81,   2,   0,   0,   0,   0,   0,   0,   0,   0,\n",
       "          0,   0],\n",
       "       [  0,   0,   0,   0,   0,   0,  18, 171, 219, 253, 253, 253, 253,\n",
       "        195,  80,   9,   0,   0,   0,   0,   0,   0,   0,   0,   0,   0,\n",
       "          0,   0],\n",
       "       [  0,   0,   0,   0,  55, 172, 226, 253, 253, 253, 253, 244, 133,\n",
       "         11,   0,   0,   0,   0,   0,   0,   0,   0,   0,   0,   0,   0,\n",
       "          0,   0],\n",
       "       [  0,   0,   0,   0, 136, 253, 253, 253, 212, 135, 132,  16,   0,\n",
       "          0,   0,   0,   0,   0,   0,   0,   0,   0,   0,   0,   0,   0,\n",
       "          0,   0],\n",
       "       [  0,   0,   0,   0,   0,   0,   0,   0,   0,   0,   0,   0,   0,\n",
       "          0,   0,   0,   0,   0,   0,   0,   0,   0,   0,   0,   0,   0,\n",
       "          0,   0],\n",
       "       [  0,   0,   0,   0,   0,   0,   0,   0,   0,   0,   0,   0,   0,\n",
       "          0,   0,   0,   0,   0,   0,   0,   0,   0,   0,   0,   0,   0,\n",
       "          0,   0],\n",
       "       [  0,   0,   0,   0,   0,   0,   0,   0,   0,   0,   0,   0,   0,\n",
       "          0,   0,   0,   0,   0,   0,   0,   0,   0,   0,   0,   0,   0,\n",
       "          0,   0]], dtype=uint8)"
      ]
     },
     "execution_count": 8,
     "metadata": {},
     "output_type": "execute_result"
    }
   ],
   "source": [
    "# Print first train data elelment\n",
    "X_train[0]"
   ]
  },
  {
   "cell_type": "code",
   "execution_count": 9,
   "id": "73a603bb-506d-41c7-ab66-68c9be4b9562",
   "metadata": {},
   "outputs": [
    {
     "data": {
      "text/plain": [
       "(60000,)"
      ]
     },
     "execution_count": 9,
     "metadata": {},
     "output_type": "execute_result"
    }
   ],
   "source": [
    "y_train.shape"
   ]
  },
  {
   "cell_type": "code",
   "execution_count": 10,
   "id": "83e16de1-a952-4d69-9f5d-cab00f64e9c0",
   "metadata": {},
   "outputs": [
    {
     "data": {
      "text/plain": [
       "5"
      ]
     },
     "execution_count": 10,
     "metadata": {},
     "output_type": "execute_result"
    }
   ],
   "source": [
    "#Print first y train element\n",
    "y_train[0]"
   ]
  },
  {
   "cell_type": "code",
   "execution_count": 11,
   "id": "1f1c2cce-f7f3-4b1b-97c5-9cc723ddf38f",
   "metadata": {},
   "outputs": [
    {
     "data": {
      "image/png": "[encoded data removed]",
      "text/plain": [
       "<Figure size 480x480 with 1 Axes>"
      ]
     },
     "metadata": {},
     "output_type": "display_data"
    }
   ],
   "source": [
    "# plt.matshow() displays the matrix (like an image).\n",
    "plt.matshow(X_train[0])\n",
    "plt.show()"
   ]
  },
  {
   "cell_type": "code",
   "execution_count": 12,
   "id": "c4b720c2-2c33-44eb-a721-fcc7775154b6",
   "metadata": {},
   "outputs": [
    {
     "data": {
      "text/plain": [
       "<function matplotlib.pyplot.show(close=None, block=None)>"
      ]
     },
     "execution_count": 12,
     "metadata": {},
     "output_type": "execute_result"
    },
    {
     "data": {
      "image/png": "[encoded data removed]",
      "text/plain": [
       "<Figure size 480x480 with 1 Axes>"
      ]
     },
     "metadata": {},
     "output_type": "display_data"
    }
   ],
   "source": [
    "plt.matshow(X_train[1])\n",
    "plt.show"
   ]
  },
  {
   "cell_type": "code",
   "execution_count": 13,
   "id": "75b8cb5e-da2f-4dc8-8424-c831f40a244a",
   "metadata": {},
   "outputs": [
    {
     "data": {
      "text/plain": [
       "0"
      ]
     },
     "execution_count": 13,
     "metadata": {},
     "output_type": "execute_result"
    }
   ],
   "source": [
    "# Check y value for above x\n",
    "y_train[1]"
   ]
  },
  {
   "cell_type": "code",
   "execution_count": 14,
   "id": "45f38570-bf48-4c3f-bd83-d168cbc65829",
   "metadata": {},
   "outputs": [
    {
     "data": {
      "text/plain": [
       "array([5, 0, 4, 1, 9], dtype=uint8)"
      ]
     },
     "execution_count": 14,
     "metadata": {},
     "output_type": "execute_result"
    }
   ],
   "source": [
    "# Print first 5 y train values\n",
    "y_train[:5]"
   ]
  },
  {
   "cell_type": "markdown",
   "id": "867334ad-d024-4497-ab92-3b3f263a4f12",
   "metadata": {},
   "source": [
    "### Data Preprocessing"
   ]
  },
  {
   "cell_type": "code",
   "execution_count": 15,
   "id": "2c34e148-2480-4b65-a8ee-ae365fd92698",
   "metadata": {},
   "outputs": [
    {
     "data": {
      "text/plain": [
       "(60000, 784)"
      ]
     },
     "execution_count": 15,
     "metadata": {},
     "output_type": "execute_result"
    }
   ],
   "source": [
    "#Flatten X_trian from (60000, 28, 28 ) to (60000, 784)\n",
    "    #Most neural networks (like Sequential models with Dense layers) expect the input as a 1D vector rather than a 2D matrix. \n",
    "    #So you reshape it.\n",
    "\n",
    "X_train_flatened = X_train.reshape(len(X_train), 28*28)\n",
    "X_test_flatened = X_test.reshape(len(X_test), 28*28)\n",
    "#Also can use: X_train_flatened = X_train.reshape(-1, 28 * 28) --> -1 lets NumPy automatically figure out how many samples there are — it's a placeholder for \"whatever fits.\"\n",
    "\n",
    "X_train_flatened.shape"
   ]
  },
  {
   "cell_type": "code",
   "execution_count": 16,
   "id": "6c497e80-e299-43d3-af0e-63bef6350019",
   "metadata": {},
   "outputs": [
    {
     "data": {
      "text/plain": [
       "array([  0,   0,   0,   0,   0,   0,   0,   0,   0,   0,   0,   0,   0,\n",
       "         0,   0,   0,   0,   0,   0,   0,   0,   0,   0,   0,   0,   0,\n",
       "         0,   0,   0,   0,   0,   0,   0,   0,   0,   0,   0,   0,   0,\n",
       "         0,   0,   0,   0,   0,   0,   0,   0,   0,   0,   0,   0,   0,\n",
       "         0,   0,   0,   0,   0,   0,   0,   0,   0,   0,   0,   0,   0,\n",
       "         0,   0,   0,   0,   0,   0,   0,   0,   0,   0,   0,   0,   0,\n",
       "         0,   0,   0,   0,   0,   0,   0,   0,   0,   0,   0,   0,   0,\n",
       "         0,   0,   0,   0,   0,   0,   0,   0,   0,   0,   0,   0,   0,\n",
       "         0,   0,   0,   0,   0,   0,   0,   0,   0,   0,   0,   0,   0,\n",
       "         0,   0,   0,   0,   0,   0,   0,   0,   0,   0,   0,   0,   0,\n",
       "         0,   0,   0,   0,   0,   0,   0,   0,   0,   0,   0,   0,   0,\n",
       "         0,   0,   0,   0,   0,   0,   0,   0,   0,   3,  18,  18,  18,\n",
       "       126, 136, 175,  26, 166, 255, 247, 127,   0,   0,   0,   0,   0,\n",
       "         0,   0,   0,   0,   0,   0,   0,  30,  36,  94, 154, 170, 253,\n",
       "       253, 253, 253, 253, 225, 172, 253, 242, 195,  64,   0,   0,   0,\n",
       "         0,   0,   0,   0,   0,   0,   0,   0,  49, 238, 253, 253, 253,\n",
       "       253, 253, 253, 253, 253, 251,  93,  82,  82,  56,  39,   0,   0,\n",
       "         0,   0,   0,   0,   0,   0,   0,   0,   0,   0,  18, 219, 253,\n",
       "       253, 253, 253, 253, 198, 182, 247, 241,   0,   0,   0,   0,   0,\n",
       "         0,   0,   0,   0,   0,   0,   0,   0,   0,   0,   0,   0,   0,\n",
       "        80, 156, 107, 253, 253, 205,  11,   0,  43, 154,   0,   0,   0,\n",
       "         0,   0,   0,   0,   0,   0,   0,   0,   0,   0,   0,   0,   0,\n",
       "         0,   0,   0,  14,   1, 154, 253,  90,   0,   0,   0,   0,   0,\n",
       "         0,   0,   0,   0,   0,   0,   0,   0,   0,   0,   0,   0,   0,\n",
       "         0,   0,   0,   0,   0,   0,   0, 139, 253, 190,   2,   0,   0,\n",
       "         0,   0,   0,   0,   0,   0,   0,   0,   0,   0,   0,   0,   0,\n",
       "         0,   0,   0,   0,   0,   0,   0,   0,   0,  11, 190, 253,  70,\n",
       "         0,   0,   0,   0,   0,   0,   0,   0,   0,   0,   0,   0,   0,\n",
       "         0,   0,   0,   0,   0,   0,   0,   0,   0,   0,   0,   0,  35,\n",
       "       241, 225, 160, 108,   1,   0,   0,   0,   0,   0,   0,   0,   0,\n",
       "         0,   0,   0,   0,   0,   0,   0,   0,   0,   0,   0,   0,   0,\n",
       "         0,   0,  81, 240, 253, 253, 119,  25,   0,   0,   0,   0,   0,\n",
       "         0,   0,   0,   0,   0,   0,   0,   0,   0,   0,   0,   0,   0,\n",
       "         0,   0,   0,   0,   0,  45, 186, 253, 253, 150,  27,   0,   0,\n",
       "         0,   0,   0,   0,   0,   0,   0,   0,   0,   0,   0,   0,   0,\n",
       "         0,   0,   0,   0,   0,   0,   0,   0,  16,  93, 252, 253, 187,\n",
       "         0,   0,   0,   0,   0,   0,   0,   0,   0,   0,   0,   0,   0,\n",
       "         0,   0,   0,   0,   0,   0,   0,   0,   0,   0,   0,   0, 249,\n",
       "       253, 249,  64,   0,   0,   0,   0,   0,   0,   0,   0,   0,   0,\n",
       "         0,   0,   0,   0,   0,   0,   0,   0,   0,   0,   0,  46, 130,\n",
       "       183, 253, 253, 207,   2,   0,   0,   0,   0,   0,   0,   0,   0,\n",
       "         0,   0,   0,   0,   0,   0,   0,   0,   0,   0,   0,  39, 148,\n",
       "       229, 253, 253, 253, 250, 182,   0,   0,   0,   0,   0,   0,   0,\n",
       "         0,   0,   0,   0,   0,   0,   0,   0,   0,   0,   0,  24, 114,\n",
       "       221, 253, 253, 253, 253, 201,  78,   0,   0,   0,   0,   0,   0,\n",
       "         0,   0,   0,   0,   0,   0,   0,   0,   0,   0,   0,  23,  66,\n",
       "       213, 253, 253, 253, 253, 198,  81,   2,   0,   0,   0,   0,   0,\n",
       "         0,   0,   0,   0,   0,   0,   0,   0,   0,   0,   0,  18, 171,\n",
       "       219, 253, 253, 253, 253, 195,  80,   9,   0,   0,   0,   0,   0,\n",
       "         0,   0,   0,   0,   0,   0,   0,   0,   0,   0,   0,  55, 172,\n",
       "       226, 253, 253, 253, 253, 244, 133,  11,   0,   0,   0,   0,   0,\n",
       "         0,   0,   0,   0,   0,   0,   0,   0,   0,   0,   0,   0,   0,\n",
       "       136, 253, 253, 253, 212, 135, 132,  16,   0,   0,   0,   0,   0,\n",
       "         0,   0,   0,   0,   0,   0,   0,   0,   0,   0,   0,   0,   0,\n",
       "         0,   0,   0,   0,   0,   0,   0,   0,   0,   0,   0,   0,   0,\n",
       "         0,   0,   0,   0,   0,   0,   0,   0,   0,   0,   0,   0,   0,\n",
       "         0,   0,   0,   0,   0,   0,   0,   0,   0,   0,   0,   0,   0,\n",
       "         0,   0,   0,   0,   0,   0,   0,   0,   0,   0,   0,   0,   0,\n",
       "         0,   0,   0,   0,   0,   0,   0,   0,   0,   0,   0,   0,   0,\n",
       "         0,   0,   0,   0,   0,   0,   0,   0,   0,   0,   0,   0,   0,\n",
       "         0,   0,   0,   0], dtype=uint8)"
      ]
     },
     "execution_count": 16,
     "metadata": {},
     "output_type": "execute_result"
    }
   ],
   "source": [
    "X_train_flatened[0]"
   ]
  },
  {
   "cell_type": "markdown",
   "id": "e74b9634-f269-4fee-bf13-209d9145f50b",
   "metadata": {},
   "source": [
    "### Model Training"
   ]
  },
  {
   "cell_type": "code",
   "execution_count": 17,
   "id": "18877e72-766c-489c-a855-683acbdcc499",
   "metadata": {},
   "outputs": [
    {
     "name": "stdout",
     "output_type": "stream",
     "text": [
      "Epoch 1/10\n",
      "1875/1875 [==============================] - 4s 2ms/step - loss: 2.5767 - accuracy: 0.8607\n",
      "Epoch 2/10\n",
      "1875/1875 [==============================] - 3s 2ms/step - loss: 0.3558 - accuracy: 0.9141\n",
      "Epoch 3/10\n",
      "1875/1875 [==============================] - 3s 2ms/step - loss: 0.2720 - accuracy: 0.9313\n",
      "Epoch 4/10\n",
      "1875/1875 [==============================] - 3s 2ms/step - loss: 0.2486 - accuracy: 0.9373\n",
      "Epoch 5/10\n",
      "1875/1875 [==============================] - 3s 2ms/step - loss: 0.2255 - accuracy: 0.9417\n",
      "Epoch 6/10\n",
      "1875/1875 [==============================] - 3s 2ms/step - loss: 0.2165 - accuracy: 0.9462\n",
      "Epoch 7/10\n",
      "1875/1875 [==============================] - 3s 2ms/step - loss: 0.1961 - accuracy: 0.9495\n",
      "Epoch 8/10\n",
      "1875/1875 [==============================] - 3s 2ms/step - loss: 0.1954 - accuracy: 0.9524\n",
      "Epoch 9/10\n",
      "1875/1875 [==============================] - 3s 2ms/step - loss: 0.1822 - accuracy: 0.9562\n",
      "Epoch 10/10\n",
      "1875/1875 [==============================] - 3s 2ms/step - loss: 0.1800 - accuracy: 0.9554\n"
     ]
    },
    {
     "data": {
      "text/plain": [
       "<keras.src.callbacks.History at 0x12745a07210>"
      ]
     },
     "execution_count": 17,
     "metadata": {},
     "output_type": "execute_result"
    }
   ],
   "source": [
    "#Basic Architecture (Exclusing normalization here, so as to understand its impact)\n",
    "\n",
    "model = tf.keras.Sequential([\n",
    "tf.keras.layers.Dense(128, activation='relu', input_shape=(784,)),  # input must be flattened\n",
    "tf.keras.layers.Dense(10, activation='softmax')\n",
    "])\n",
    "    \n",
    "model.compile(\n",
    "    optimizer='adam', \n",
    "    loss='sparse_categorical_crossentropy',\n",
    "    metrics=['accuracy']\n",
    ")\n",
    "    \n",
    "model.fit(X_train_flatened, y_train, epochs=10)\n"
   ]
  },
  {
   "cell_type": "code",
   "execution_count": 18,
   "id": "21a75a1f-13b7-4663-9c2d-3138dd18badc",
   "metadata": {},
   "outputs": [
    {
     "name": "stdout",
     "output_type": "stream",
     "text": [
      "Test accuracy: 0.9516\n"
     ]
    }
   ],
   "source": [
    "# Model Testing\n",
    "test_loss, test_acc = model.evaluate(X_test_flatened, y_test, verbose=0)\n",
    "print(f\"Test accuracy: {test_acc:.4f}\")"
   ]
  },
  {
   "cell_type": "code",
   "execution_count": 19,
   "id": "17131f34-785b-4158-9cc8-ee4da55e76c7",
   "metadata": {},
   "outputs": [],
   "source": [
    "# Scaling is always recommended --> faster convergence, better performance, stability\n",
    "# Scaling X values to (0,1) is usually suited for ReLU\n",
    "\n",
    "X_train_scaled = X_train_flatened.astype(\"float32\") / 255\n",
    "X_test_scaled = X_test_flatened.astype(\"float32\") / 255"
   ]
  },
  {
   "cell_type": "code",
   "execution_count": 20,
   "id": "09eb8b2d-053a-479f-ad94-57547af45071",
   "metadata": {},
   "outputs": [
    {
     "name": "stdout",
     "output_type": "stream",
     "text": [
      "Epoch 1/10\n",
      "1688/1688 [==============================] - 4s 2ms/step - loss: 0.2730 - accuracy: 0.9215 - val_loss: 0.1416 - val_accuracy: 0.9587\n",
      "Epoch 2/10\n",
      "1688/1688 [==============================] - 4s 2ms/step - loss: 0.1204 - accuracy: 0.9640 - val_loss: 0.1021 - val_accuracy: 0.9703\n",
      "Epoch 3/10\n",
      "1688/1688 [==============================] - 3s 2ms/step - loss: 0.0823 - accuracy: 0.9750 - val_loss: 0.0816 - val_accuracy: 0.9782\n",
      "Epoch 4/10\n",
      "1688/1688 [==============================] - 3s 2ms/step - loss: 0.0609 - accuracy: 0.9808 - val_loss: 0.0860 - val_accuracy: 0.9752\n",
      "Epoch 5/10\n",
      "1688/1688 [==============================] - 3s 2ms/step - loss: 0.0468 - accuracy: 0.9856 - val_loss: 0.0773 - val_accuracy: 0.9785\n",
      "Epoch 6/10\n",
      "1688/1688 [==============================] - 3s 2ms/step - loss: 0.0357 - accuracy: 0.9893 - val_loss: 0.0768 - val_accuracy: 0.9787\n",
      "Epoch 7/10\n",
      "1688/1688 [==============================] - 3s 2ms/step - loss: 0.0285 - accuracy: 0.9912 - val_loss: 0.0793 - val_accuracy: 0.9790\n",
      "Epoch 8/10\n",
      "1688/1688 [==============================] - 3s 2ms/step - loss: 0.0235 - accuracy: 0.9927 - val_loss: 0.0825 - val_accuracy: 0.9793\n",
      "Epoch 9/10\n",
      "1688/1688 [==============================] - 3s 2ms/step - loss: 0.0177 - accuracy: 0.9949 - val_loss: 0.0885 - val_accuracy: 0.9738\n",
      "Epoch 10/10\n",
      "1688/1688 [==============================] - 3s 2ms/step - loss: 0.0160 - accuracy: 0.9954 - val_loss: 0.0809 - val_accuracy: 0.9800\n",
      "Test accuracy with Scaled data: 0.9791\n"
     ]
    }
   ],
   "source": [
    "model = tf.keras.Sequential([\n",
    "    tf.keras.layers.Dense(128, activation='relu', input_shape=(784,)),  # input must be flattened\n",
    "    tf.keras.layers.Dense(10, activation='softmax')\n",
    "])\n",
    "    \n",
    "model.compile(\n",
    "    optimizer='adam', \n",
    "    loss='sparse_categorical_crossentropy',\n",
    "    metrics=['accuracy']\n",
    ")\n",
    "    \n",
    "history = model.fit(X_train_scaled, y_train, epochs=10, validation_split=0.1)\n",
    "test_loss, test_acc = model.evaluate(X_test_scaled, y_test, verbose=0)\n",
    "print(f\"Test accuracy with Scaled data: {test_acc:.4f}\")\n"
   ]
  },
  {
   "cell_type": "markdown",
   "id": "d89ec740-d647-42fc-9ec1-48c9d5c9b3a7",
   "metadata": {},
   "source": [
    "##### Inference: This demonstrates how important scaling is --> 0.95 to 0.97"
   ]
  },
  {
   "cell_type": "markdown",
   "id": "de94c479-94b3-453f-8677-fe420d9b3f99",
   "metadata": {},
   "source": [
    "### Model Optimization"
   ]
  },
  {
   "cell_type": "code",
   "execution_count": 21,
   "id": "d09798b4-5ec9-456b-b28d-27f675e3cf8f",
   "metadata": {},
   "outputs": [
    {
     "data": {
      "image/png": "[encoded data removed]",
      "text/plain": [
       "<Figure size 1200x500 with 1 Axes>"
      ]
     },
     "metadata": {},
     "output_type": "display_data"
    }
   ],
   "source": [
    "# Plot training and validation accuracy\n",
    "plt.figure(figsize=(12, 5))\n",
    "\n",
    "plt.subplot(1, 2, 1)\n",
    "plt.plot(history.history['accuracy'], label='Train Acc')\n",
    "plt.plot(history.history['val_accuracy'], label='Val Acc')\n",
    "plt.xlabel('Epoch')\n",
    "plt.ylabel('Accuracy')\n",
    "plt.title('Training vs. Validation Accuracy')\n",
    "plt.legend()\n",
    "\n",
    "plt.tight_layout()\n",
    "plt.show()\n"
   ]
  },
  {
   "cell_type": "markdown",
   "id": "9005af9c-20a9-4740-8845-8ffa77ab9370",
   "metadata": {},
   "source": [
    "Inference: \n",
    "- Early epochs(0-2): both trainig and validation accuracy increases --> Model Learning meaningful patterns from data\n",
    "- Mid Epoch(3-5): Training accuracy continues to rise ~99%, Validation accuracy flattens around 97.8% -->  Model is no longer generalizing.\n",
    "- Later Epoch(6-9): Training accuracy keeps increasing, Validation accuracy stagnates. -->  early signs of overfitting.\n",
    "\n",
    "Training accuracy is already high, so NO need for more complex model (more layers or more nuerons) --> Will only worsen overfitting if complex\n",
    "There's a Gap between Train and validation accuracy(variance), this can be improved --> Regularisation/Dropout"
   ]
  },
  {
   "cell_type": "code",
   "execution_count": 22,
   "id": "868442e9-92c7-4f35-b5b3-4f1ea250fe1d",
   "metadata": {},
   "outputs": [
    {
     "name": "stdout",
     "output_type": "stream",
     "text": [
      "Epoch 1/10\n",
      "1688/1688 [==============================] - 3s 2ms/step - loss: 0.0127 - accuracy: 0.9965 - val_loss: 0.0885 - val_accuracy: 0.9785\n",
      "Epoch 2/10\n",
      "1688/1688 [==============================] - 3s 2ms/step - loss: 0.0105 - accuracy: 0.9969 - val_loss: 0.0886 - val_accuracy: 0.9798\n",
      "Epoch 3/10\n",
      "1688/1688 [==============================] - 3s 2ms/step - loss: 0.0107 - accuracy: 0.9967 - val_loss: 0.1059 - val_accuracy: 0.9762\n",
      "Epoch 4/10\n",
      "1688/1688 [==============================] - 3s 2ms/step - loss: 0.0069 - accuracy: 0.9980 - val_loss: 0.0847 - val_accuracy: 0.9795\n",
      "Epoch 5/10\n",
      "1688/1688 [==============================] - 3s 2ms/step - loss: 0.0087 - accuracy: 0.9973 - val_loss: 0.0840 - val_accuracy: 0.9803\n",
      "Epoch 6/10\n",
      "1688/1688 [==============================] - 3s 2ms/step - loss: 0.0057 - accuracy: 0.9984 - val_loss: 0.1145 - val_accuracy: 0.9780\n",
      "Epoch 7/10\n",
      "1688/1688 [==============================] - 3s 2ms/step - loss: 0.0065 - accuracy: 0.9978 - val_loss: 0.1084 - val_accuracy: 0.9767\n",
      "Epoch 8/10\n",
      "1688/1688 [==============================] - 3s 2ms/step - loss: 0.0071 - accuracy: 0.9979 - val_loss: 0.1021 - val_accuracy: 0.9807\n",
      "Epoch 9/10\n",
      "1688/1688 [==============================] - 3s 2ms/step - loss: 0.0052 - accuracy: 0.9983 - val_loss: 0.1023 - val_accuracy: 0.9800\n",
      "Epoch 10/10\n",
      "1688/1688 [==============================] - 3s 2ms/step - loss: 0.0049 - accuracy: 0.9983 - val_loss: 0.1230 - val_accuracy: 0.9775\n",
      "Test accuracy with Scaled data: 0.9783\n"
     ]
    },
    {
     "data": {
      "image/png": "[encoded data removed]",
      "text/plain": [
       "<Figure size 1200x500 with 1 Axes>"
      ]
     },
     "metadata": {},
     "output_type": "display_data"
    }
   ],
   "source": [
    "#Dropout --> Reducing Overfitting\n",
    "\n",
    "# Train with validation data\n",
    "history = model.fit(X_train_scaled, y_train,\n",
    "                    epochs=10,\n",
    "                    validation_split=0.1\n",
    "                   ) \n",
    "\n",
    "test_loss, test_acc = model.evaluate(X_test_scaled, y_test, verbose=0)\n",
    "print(f\"Test accuracy with Scaled data: {test_acc:.4f}\")\n",
    "\n",
    "# Plot training and validation accuracy\n",
    "plt.figure(figsize=(12, 5))\n",
    "\n",
    "plt.subplot(1, 2, 1)\n",
    "plt.plot(history.history['accuracy'], label='Train Acc')\n",
    "plt.plot(history.history['val_accuracy'], label='Val Acc')\n",
    "plt.xlabel('Epoch')\n",
    "plt.ylabel('Accuracy')\n",
    "plt.title('Training vs. Validation Accuracy')\n",
    "plt.legend()\n",
    "\n",
    "plt.tight_layout()\n",
    "plt.show()\n"
   ]
  },
  {
   "cell_type": "markdown",
   "id": "9f928221-3f4c-4b9a-af98-352e6996ea2c",
   "metadata": {},
   "source": [
    "Observation:\n",
    "- Training Accuracy: Grows more slowly, stays around 99.7%\n",
    "- Validation Accuracy: Almost Matches training accuracy (~98.2%)\n",
    "- Gap (Variance): Almost zero or slightly reversed (val ≈ train)\n",
    "\n",
    "Inference:\n",
    "- ✅ Dropout helped in reducing overfitting.\n",
    "- 🔻 You’ve sacrificed a bit of training accuracy (expected), but now your model generalizes better --> Improved training accuracy\n",
    "- 📉 The reduced gap and stable validation accuracy → your model is now more robust.\n"
   ]
  },
  {
   "cell_type": "markdown",
   "id": "4fda321b-8154-42c8-8d65-4170d23b8bde",
   "metadata": {},
   "source": [
    "### Prediction"
   ]
  },
  {
   "cell_type": "code",
   "execution_count": 23,
   "id": "5db9c44e-6c5e-4453-8396-d7656ded52c6",
   "metadata": {},
   "outputs": [
    {
     "data": {
      "image/png": "[encoded data removed]",
      "text/plain": [
       "<Figure size 640x480 with 1 Axes>"
      ]
     },
     "metadata": {},
     "output_type": "display_data"
    },
    {
     "name": "stdout",
     "output_type": "stream",
     "text": [
      "1/1 [==============================] - 0s 82ms/step\n",
      "Predicted Probablities: [[0. 0. 1. 0. 0. 0. 0. 0. 0. 0.]]\n",
      "Predicted Digit: 2\n"
     ]
    }
   ],
   "source": [
    "#Prediction\n",
    "test_image = X_test[1]\n",
    "\n",
    "# Plot the image for verification\n",
    "plt.imshow(test_image.reshape(28, 28))\n",
    "plt.title(\"Test Image\")\n",
    "plt.axis('off')\n",
    "plt.show()\n",
    "\n",
    "# Reshape to match model input: (1, 784)\n",
    "test_image_reshaped = test_image.reshape(1, 784)\n",
    "\n",
    "# Predict\n",
    "pred_probs = model.predict(test_image_reshaped)\n",
    "predicted_class = np.argmax(pred_probs)\n",
    "\n",
    "print(f\"Predicted Probablities: {pred_probs}\")\n",
    "print(f\"Predicted Digit: {predicted_class}\")"
   ]
  },
  {
   "cell_type": "markdown",
   "id": "ccde8a89-071c-4d2f-9cbf-60cdf4524601",
   "metadata": {},
   "source": [
    "### Real Time Prediction"
   ]
  },
  {
   "cell_type": "code",
   "execution_count": 24,
   "id": "ed0bc02b-fb37-42d4-8b67-197408c9cee1",
   "metadata": {},
   "outputs": [
    {
     "data": {
      "image/png": "[encoded data removed]",
      "text/plain": [
       "<Figure size 640x480 with 1 Axes>"
      ]
     },
     "metadata": {},
     "output_type": "display_data"
    },
    {
     "name": "stdout",
     "output_type": "stream",
     "text": [
      "1/1 [==============================] - 0s 45ms/step\n",
      "Predicted Digit: 3\n",
      "Class Probabilities:\n",
      "0: 0.0000\n",
      "1: 0.0000\n",
      "2: 0.0000\n",
      "3: 1.0000\n",
      "4: 0.0000\n",
      "5: 0.0000\n",
      "6: 0.0000\n",
      "7: 0.0000\n",
      "8: 0.0000\n",
      "9: 0.0000\n"
     ]
    }
   ],
   "source": [
    "from PIL import Image\n",
    "import numpy as np\n",
    "import matplotlib.pyplot as plt\n",
    "\n",
    "# Step 1: Load and preprocess image\n",
    "def load_image(filepath):\n",
    "    # Load and convert to grayscale\n",
    "    img = Image.open(filepath).convert('L')  # 'L' = grayscale\n",
    "    img = img.resize((28, 28))               # Resize to MNIST format\n",
    "    img_np = np.array(img)\n",
    "\n",
    "    # Invert colors if needed (MNIST digits are white on black)\n",
    "    img_np = 255 - img_np\n",
    "\n",
    "    # Normalize and reshape\n",
    "    img_np = img_np.astype(\"float32\") / 255.0\n",
    "    img_np = img_np.reshape(1, 784)  # same as (1, 28*28)\n",
    "\n",
    "    return img_np, img\n",
    "\n",
    "# Step 2: Predict using trained model\n",
    "def predict_digit(filepath):\n",
    "    preprocessed_img, raw_img = load_image(filepath)\n",
    "\n",
    "    # Show image\n",
    "    plt.imshow(raw_img, cmap='gray')\n",
    "    plt.title(\"Input Image\")\n",
    "    plt.axis('off')\n",
    "    plt.show()\n",
    "\n",
    "    # Predict\n",
    "    pred_probs = model.predict(preprocessed_img)\n",
    "    pred_class = np.argmax(pred_probs)\n",
    "\n",
    "    # Output\n",
    "    print(f\"Predicted Digit: {pred_class}\")\n",
    "    print(\"Class Probabilities:\")\n",
    "    for i, prob in enumerate(pred_probs[0]):\n",
    "        print(f\"{i}: {prob:.4f}\")\n",
    "\n",
    "# 🔁 Example usage\n",
    "predict_digit(\"C:\\\\Users\\\\pushk\\\\OneDrive\\\\Desktop\\\\three.png\")  \n"
   ]
  },
  {
   "cell_type": "markdown",
   "id": "4ccfd6b5-13a7-4815-a61c-174e378b2bf0",
   "metadata": {},
   "source": [
    "### Export Model"
   ]
  },
  {
   "cell_type": "code",
   "execution_count": 25,
   "id": "347489f6-6d1b-4c3a-bca9-4f60ade8f807",
   "metadata": {},
   "outputs": [
    {
     "name": "stderr",
     "output_type": "stream",
     "text": [
      "C:\\Users\\pushk\\AppData\\Local\\Programs\\Python\\Python311\\Lib\\site-packages\\keras\\src\\engine\\training.py:3000: UserWarning: You are saving your model as an HDF5 file via `model.save()`. This file format is considered legacy. We recommend using instead the native Keras format, e.g. `model.save('my_model.keras')`.\n",
      "  saving_api.save_model(\n"
     ]
    }
   ],
   "source": [
    "model.save(\"model\\digit_recognition_model.h5\")"
   ]
  },
  {
   "cell_type": "code",
   "execution_count": null,
   "id": "1533e8b7-f565-4c2e-95ca-beb859ee3a47",
   "metadata": {},
   "outputs": [],
   "source": [
    "\n",
    "\n"
   ]
  }
 ],
 "metadata": {
  "kernelspec": {
   "display_name": "Python (ML)",
   "language": "python",
   "name": "ml_env"
  },
  "language_info": {
   "codemirror_mode": {
    "name": "ipython",
    "version": 3
   },
   "file_extension": ".py",
   "mimetype": "text/x-python",
   "name": "python",
   "nbconvert_exporter": "python",
   "pygments_lexer": "ipython3",
   "version": "3.11.6"
  }
 },
 "nbformat": 4,
 "nbformat_minor": 5
}
